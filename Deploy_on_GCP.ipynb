{
 "cells": [
  {
   "cell_type": "markdown",
   "id": "75b4bc1d-8fc9-4b30-9142-5ddb50ec9631",
   "metadata": {},
   "source": [
    "## The following steps demonstrate how to deploy your web application to Google App Engine \n",
    "(on Google Cloud) via GitHub."
   ]
  },
  {
   "cell_type": "markdown",
   "id": "ebbbf7c5-8e20-426c-91a6-b3f5862fa6dc",
   "metadata": {},
   "source": [
    "1: Create Google Cloud project"
   ]
  },
  {
   "cell_type": "markdown",
   "id": "18a3f91f-c3dc-4ea4-876b-7a2e35c82514",
   "metadata": {},
   "source": [
    "2: Open the project"
   ]
  },
  {
   "cell_type": "markdown",
   "id": "902370c0-84ad-4b92-ab4a-20acb3cdce9c",
   "metadata": {},
   "source": [
    "3: Enable App Engine"
   ]
  },
  {
   "cell_type": "markdown",
   "id": "759e5092-7e5c-48dd-b032-820033a10afc",
   "metadata": {},
   "source": [
    "4: Create a GAE Python app (click on python)"
   ]
  },
  {
   "cell_type": "markdown",
   "id": "6ab46e07-2bf9-42ae-86b6-4edfe17e113d",
   "metadata": {},
   "source": [
    "5: Choose the closest region"
   ]
  },
  {
   "cell_type": "markdown",
   "id": "5266ceea-3c3a-45e7-96f7-833c1a26ccbb",
   "metadata": {},
   "source": [
    "6: Wait while Google Cloud prepares GAE"
   ]
  },
  {
   "cell_type": "markdown",
   "id": "affc26c3-a1a0-40c5-8cef-a0c8160671ce",
   "metadata": {},
   "source": [
    "7: Skip the GAE tutorial"
   ]
  },
  {
   "cell_type": "markdown",
   "id": "fb39b985-fec0-4565-b326-69311687d8c0",
   "metadata": {},
   "source": [
    "8: Create GIT repositories on Google Cloud"
   ]
  },
  {
   "cell_type": "markdown",
   "id": "a424ba01-9aca-4b1b-a760-f16cfa428976",
   "metadata": {},
   "source": [
    "9: Add new repository"
   ]
  },
  {
   "cell_type": "markdown",
   "id": "0da1c742-e6f6-4efd-a59a-2f18f8382fb0",
   "metadata": {},
   "source": [
    "10: Connect external repository and click continue"
   ]
  },
  {
   "cell_type": "markdown",
   "id": "45e50872-f490-48e6-bac6-86ddf87904b4",
   "metadata": {},
   "source": [
    "11: Connect to GitHub"
   ]
  },
  {
   "cell_type": "markdown",
   "id": "f5e10747-d6e1-482a-ab60-ea88285ae6ae",
   "metadata": {},
   "source": [
    "12: Select your GitHub repository"
   ]
  },
  {
   "cell_type": "markdown",
   "id": "ebd95617-dd4f-4fd3-a1d8-3bf0e4ae0bb7",
   "metadata": {},
   "source": [
    "13: Connect selected repository"
   ]
  },
  {
   "cell_type": "markdown",
   "id": "3f960ec1-f206-4e09-b1b0-5bd09b3bd05c",
   "metadata": {},
   "source": [
    " 14: Google Cloud repository"
   ]
  },
  {
   "cell_type": "markdown",
   "id": "70e4574c-36c2-4c9c-9468-cf39d38bb78f",
   "metadata": {},
   "source": [
    "15: Open Cloud shell"
   ]
  },
  {
   "cell_type": "markdown",
   "id": "06b91dde-0a36-47ee-96ec-e39ddec92d1d",
   "metadata": {},
   "source": [
    "16: gcloud app deploy"
   ]
  },
  {
   "cell_type": "markdown",
   "id": "f9e7230a-f21e-47c0-b916-1b0952a551cd",
   "metadata": {},
   "source": [
    "17: Finally Check your website"
   ]
  }
 ],
 "metadata": {
  "kernelspec": {
   "display_name": "Python 3 (ipykernel)",
   "language": "python",
   "name": "python3"
  },
  "language_info": {
   "codemirror_mode": {
    "name": "ipython",
    "version": 3
   },
   "file_extension": ".py",
   "mimetype": "text/x-python",
   "name": "python",
   "nbconvert_exporter": "python",
   "pygments_lexer": "ipython3",
   "version": "3.11.7"
  }
 },
 "nbformat": 4,
 "nbformat_minor": 5
}
